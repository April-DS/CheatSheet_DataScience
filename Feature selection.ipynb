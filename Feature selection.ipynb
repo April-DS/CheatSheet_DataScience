{
 "cells": [
  {
   "cell_type": "markdown",
   "metadata": {
    "application/vnd.databricks.v1+cell": {
     "cellMetadata": {},
     "inputWidgets": {},
     "nuid": "3ee35758-96d3-48d9-a364-0bafecb842ad",
     "showTitle": false,
     "title": ""
    }
   },
   "source": [
    "### Feature Selection with sklearn and Pandas\n",
    "[link](https://towardsdatascience.com/feature-selection-with-pandas-e3690ad8504b)"
   ]
  },
  {
   "cell_type": "markdown",
   "metadata": {
    "application/vnd.databricks.v1+cell": {
     "cellMetadata": {},
     "inputWidgets": {},
     "nuid": "70ede1df-f8b8-4e74-8a75-4b625e2be84b",
     "showTitle": false,
     "title": ""
    }
   },
   "source": [
    "[Loading libraries and data](#Loading-libraries-and-data)\n",
    "\n",
    "[Filter Method](#Filter-Method:)\n",
    "\n",
    "[Wrapper Method](#Wrapper-Method:)\n",
    "\n",
    "[Embedded Method](#Embedded-Method:)\n",
    "\n",
    "[PCA](#PCA)"
   ]
  },
  {
   "cell_type": "markdown",
   "metadata": {
    "application/vnd.databricks.v1+cell": {
     "cellMetadata": {},
     "inputWidgets": {},
     "nuid": "ff197dc4-572c-4ae2-bc78-2cc193eec912",
     "showTitle": false,
     "title": ""
    }
   },
   "source": [
    "About the dataset:\n",
    "We will be using the built-in Boston dataset which can be loaded through sklearn. We will be selecting features using the above listed methods for the regression problem of predicting the “MEDV” column. "
   ]
  },
  {
   "cell_type": "markdown",
   "metadata": {
    "application/vnd.databricks.v1+cell": {
     "cellMetadata": {},
     "inputWidgets": {},
     "nuid": "458b5fb3-6eae-4708-b65c-7d13c4f49534",
     "showTitle": false,
     "title": ""
    }
   },
   "source": [
    "#### Loading libraries and data"
   ]
  },
  {
   "cell_type": "code",
   "execution_count": 0,
   "metadata": {
    "application/vnd.databricks.v1+cell": {
     "cellMetadata": {},
     "inputWidgets": {},
     "nuid": "8ac9add8-93cd-4a8d-bb21-0082ca868933",
     "showTitle": false,
     "title": ""
    }
   },
   "outputs": [],
   "source": [
    "#importing libraries\n",
    "from sklearn.datasets import load_boston\n",
    "import pandas as pd\n",
    "import numpy as np\n",
    "import matplotlib\n",
    "import matplotlib.pyplot as plt\n",
    "import seaborn as sns\n",
    "import statsmodels.api as sm\n",
    "%matplotlib inline\n",
    "from sklearn.model_selection import train_test_split\n",
    "from sklearn.linear_model import LinearRegression\n",
    "from sklearn.feature_selection import RFE\n",
    "from sklearn.linear_model import RidgeCV, LassoCV, Ridge, Lasso"
   ]
  },
  {
   "cell_type": "code",
   "execution_count": 0,
   "metadata": {
    "application/vnd.databricks.v1+cell": {
     "cellMetadata": {},
     "inputWidgets": {},
     "nuid": "f7f35012-9fa5-44e1-9c21-f23a1bb3c75c",
     "showTitle": false,
     "title": ""
    }
   },
   "outputs": [],
   "source": [
    "#Loading the dataset\n",
    "x = load_boston()\n",
    "df = pd.DataFrame(x.data, columns = x.feature_names)\n",
    "df[\"MEDV\"] = x.target\n",
    "X = df.drop(\"MEDV\",1)   #Feature Matrix\n",
    "y = df[\"MEDV\"]          #Target Variable\n",
    "df.head()"
   ]
  },
  {
   "cell_type": "markdown",
   "metadata": {
    "application/vnd.databricks.v1+cell": {
     "cellMetadata": {},
     "inputWidgets": {},
     "nuid": "66cf26e6-77fd-4a17-ab4a-71f6a49eb5f7",
     "showTitle": false,
     "title": ""
    }
   },
   "source": [
    "#### Filter Method:\n",
    "\n",
    "The filtering here is done using correlation matrix.\n",
    "1. Plot the Pearson correlation heatmap\n",
    "2. Select features which has correlation of above 0.5\n",
    "    The correlation coefficient has values between -1 to 1:\n",
    "    - A value closer to 0 implies weaker correlation (exact 0 implying no correlation).\n",
    "    - A value closer to 1 implies stronger positive correlation.\n",
    "    - A value closer to -1 implies stronger negative correlation.\n",
    "    \n",
    "3. Check the correlation of selected features with each other\n",
    "4. Keep that correlated features which correlation with target variable is higher.\n",
    "5. Use features for modeling."
   ]
  },
  {
   "cell_type": "code",
   "execution_count": 0,
   "metadata": {
    "application/vnd.databricks.v1+cell": {
     "cellMetadata": {},
     "inputWidgets": {},
     "nuid": "1c232d52-c7f5-49e3-8d2a-cfc75eaeafbe",
     "showTitle": false,
     "title": ""
    }
   },
   "outputs": [],
   "source": [
    "#Using Pearson Correlation\n",
    "plt.figure(figsize=(12,10))\n",
    "cor = df.corr()\n",
    "sns.heatmap(cor, annot=True, cmap=plt.cm.Reds)\n",
    "plt.show()"
   ]
  },
  {
   "cell_type": "code",
   "execution_count": 0,
   "metadata": {
    "application/vnd.databricks.v1+cell": {
     "cellMetadata": {},
     "inputWidgets": {},
     "nuid": "3a4b76a0-0c2c-489b-99ca-b3ac2a952828",
     "showTitle": false,
     "title": ""
    }
   },
   "outputs": [],
   "source": [
    "#Correlation with output variable\n",
    "cor_target = abs(cor[\"MEDV\"])\n",
    "#Selecting highly correlated features\n",
    "relevant_features = cor_target[cor_target>0.5]\n",
    "relevant_features"
   ]
  },
  {
   "cell_type": "code",
   "execution_count": 0,
   "metadata": {
    "application/vnd.databricks.v1+cell": {
     "cellMetadata": {},
     "inputWidgets": {},
     "nuid": "a428d45c-cf3f-4379-839b-14fd4aeeaad7",
     "showTitle": false,
     "title": ""
    }
   },
   "outputs": [],
   "source": [
    "# Check the correlation of selected features with each other\n",
    "print(df[[\"LSTAT\",\"PTRATIO\"]].corr())\n",
    "print(df[[\"RM\",\"LSTAT\"]].corr())\n",
    "# it is seen that the variables RM and LSTAT are highly correlated with each other (-0.613808). \n",
    "# Hence we would keep only one variable and drop the other. \n",
    "# We will keep LSTAT since its correlation with MEDV is higher than that of RM.\n",
    "# After dropping RM, we are left with two feature, LSTAT and PTRATIO. \n",
    "# These are the final features given by Pearson correlation."
   ]
  },
  {
   "cell_type": "markdown",
   "metadata": {
    "application/vnd.databricks.v1+cell": {
     "cellMetadata": {},
     "inputWidgets": {},
     "nuid": "e37214cf-da01-4fc4-b586-cc5f8546ae9c",
     "showTitle": false,
     "title": ""
    }
   },
   "source": [
    "### Wrapper Method:\n",
    "\n",
    "Feed the features to the selected Machine Learning algorithm and based on the model performance you add/remove the features.\n",
    "\n",
    "This is an iterative and **computationally expensive** process but it is **more accurate** than the filter method."
   ]
  },
  {
   "cell_type": "markdown",
   "metadata": {
    "application/vnd.databricks.v1+cell": {
     "cellMetadata": {},
     "inputWidgets": {},
     "nuid": "a52439d9-3006-47d4-aeee-18241359bb5e",
     "showTitle": false,
     "title": ""
    }
   },
   "source": [
    "#### i. Backward Elimination\n",
    "1. Feed all the possible features to the model at first.\n",
    "2. Check the performance of the model.\n",
    "3. Iteratively remove the worst performing features one by one till the overall performance of the model comes in acceptable range.\n",
    "\n",
    "The performance metric used here to evaluate feature performance is pvalue. If the pvalue is **above 0.05** then we remove the feature, else we keep it.\n",
    "\n",
    "Here we are using OLS model which stands for “Ordinary Least Squares”. This model is used for performing linear regression."
   ]
  },
  {
   "cell_type": "code",
   "execution_count": 0,
   "metadata": {
    "application/vnd.databricks.v1+cell": {
     "cellMetadata": {},
     "inputWidgets": {},
     "nuid": "fa67a9e2-9e7d-430d-a8d3-de29cec760a5",
     "showTitle": false,
     "title": ""
    }
   },
   "outputs": [],
   "source": [
    "#Adding constant column of ones, mandatory for sm.OLS model\n",
    "X_1 = sm.add_constant(X)\n",
    "#Fitting sm.OLS model\n",
    "model = sm.OLS(y,X_1).fit()\n",
    "model.pvalues"
   ]
  },
  {
   "cell_type": "code",
   "execution_count": 0,
   "metadata": {
    "application/vnd.databricks.v1+cell": {
     "cellMetadata": {},
     "inputWidgets": {},
     "nuid": "eb1801cf-44e5-4394-9c67-67c09bd478c9",
     "showTitle": false,
     "title": ""
    }
   },
   "outputs": [],
   "source": [
    "# As we can see that the variable ‘AGE’ has highest pvalue of 0.9582293 which is greater than 0.05. \n",
    "# Hence we will remove this feature and build the model once again."
   ]
  },
  {
   "cell_type": "code",
   "execution_count": 0,
   "metadata": {
    "application/vnd.databricks.v1+cell": {
     "cellMetadata": {},
     "inputWidgets": {},
     "nuid": "c120bd63-d5c1-4455-94ed-c0965dd5d96c",
     "showTitle": false,
     "title": ""
    }
   },
   "outputs": [],
   "source": [
    "#Backward Elimination\n",
    "# This is an iterative process and can be performed at once with the help of loop.\n",
    "cols = list(X.columns)\n",
    "pmax = 1\n",
    "while (len(cols)>0):\n",
    "    p= []\n",
    "    X_1 = X[cols]\n",
    "    X_1 = sm.add_constant(X_1)\n",
    "    model = sm.OLS(y,X_1).fit()\n",
    "    p = pd.Series(model.pvalues.values[1:],index = cols)      \n",
    "    pmax = max(p)\n",
    "    feature_with_p_max = p.idxmax()\n",
    "    if(pmax>0.05):\n",
    "        cols.remove(feature_with_p_max)\n",
    "    else:\n",
    "        break\n",
    "selected_features_BE = cols\n",
    "print('Final set of variables:',selected_features_BE)"
   ]
  },
  {
   "cell_type": "markdown",
   "metadata": {
    "application/vnd.databricks.v1+cell": {
     "cellMetadata": {},
     "inputWidgets": {},
     "nuid": "f51b7765-af7f-4043-8f7b-f97b803485a6",
     "showTitle": false,
     "title": ""
    }
   },
   "source": [
    "ii. RFE (Recursive Feature Elimination)\n",
    "Works by recursively removing attributes and building a model on those attributes that remain.\n",
    "\n",
    "Uses **accuracy metric** to rank the feature according to their importance.\n",
    "1. Takes the model to be used and the number of required features as input.\n",
    "2. Gives the ranking of all the variables, 1 being most important.\n",
    "\n",
    "/here 7 (number of required features to remain) is rundom number. Better way is below."
   ]
  },
  {
   "cell_type": "code",
   "execution_count": 0,
   "metadata": {
    "application/vnd.databricks.v1+cell": {
     "cellMetadata": {},
     "inputWidgets": {},
     "nuid": "e7a99b6f-c951-4849-92d8-e2822f61ee6a",
     "showTitle": false,
     "title": ""
    }
   },
   "outputs": [],
   "source": [
    "model = LinearRegression()\n",
    "#Initializing RFE model\n",
    "rfe = RFE(model, 7)\n",
    "#Transforming data using RFE\n",
    "X_rfe = rfe.fit_transform(X,y)  \n",
    "#Fitting the data to model\n",
    "model.fit(X_rfe,y)\n",
    "print(rfe.support_)\n",
    "print(rfe.ranking_)"
   ]
  },
  {
   "cell_type": "markdown",
   "metadata": {
    "application/vnd.databricks.v1+cell": {
     "cellMetadata": {},
     "inputWidgets": {},
     "nuid": "082e4892-a372-4bf4-9174-151632b1b08f",
     "showTitle": false,
     "title": ""
    }
   },
   "source": [
    "Here we took LinearRegression model with 7 features and RFE gave feature ranking as above, but the selection of **number ‘7’ was random**.\n",
    "\n",
    "Now we need to find the *optimum* number of features.\n",
    "\n",
    "We do that by using loop starting with 1 feature and going up to 13. We then take the one for which the accuracy is highest."
   ]
  },
  {
   "cell_type": "code",
   "execution_count": 0,
   "metadata": {
    "application/vnd.databricks.v1+cell": {
     "cellMetadata": {},
     "inputWidgets": {},
     "nuid": "aaef1a72-143e-4bd6-b203-136fed39a989",
     "showTitle": false,
     "title": ""
    }
   },
   "outputs": [],
   "source": [
    "# № of features from 1 to original number of columns\n",
    "nof_list=np.arange(1,13)            \n",
    "high_score=0\n",
    "#Variable to store the optimum features\n",
    "nof=0           \n",
    "score_list =[]\n",
    "for n in range(len(nof_list)):\n",
    "    X_train, X_test, y_train, y_test = train_test_split(X,y, test_size = 0.3, random_state = 0)\n",
    "    model = LinearRegression()\n",
    "    rfe = RFE(model,nof_list[n])\n",
    "    X_train_rfe = rfe.fit_transform(X_train,y_train)\n",
    "    X_test_rfe = rfe.transform(X_test)\n",
    "    model.fit(X_train_rfe,y_train)\n",
    "    score = model.score(X_test_rfe,y_test)\n",
    "    score_list.append(score)\n",
    "    if(score>high_score):\n",
    "        high_score = score\n",
    "        nof = nof_list[n]\n",
    "print(\"Optimum number of features: %d\" %nof)\n",
    "print(\"Score (R2) with %d features: %f\" % (nof, high_score))\n",
    "\n",
    "# the optimum number of features is 10"
   ]
  },
  {
   "cell_type": "markdown",
   "metadata": {
    "application/vnd.databricks.v1+cell": {
     "cellMetadata": {},
     "inputWidgets": {},
     "nuid": "7b8a1703-8f8b-431f-903c-691ceee363f3",
     "showTitle": false,
     "title": ""
    }
   },
   "source": [
    "We now feed 10 as number of features to RFE and get the final set of features given by RFE method"
   ]
  },
  {
   "cell_type": "code",
   "execution_count": 0,
   "metadata": {
    "application/vnd.databricks.v1+cell": {
     "cellMetadata": {},
     "inputWidgets": {},
     "nuid": "f55a5f4d-7a62-4607-85f6-f480376067f7",
     "showTitle": false,
     "title": ""
    }
   },
   "outputs": [],
   "source": [
    "cols = list(X.columns)\n",
    "model = LinearRegression()\n",
    "# Initializing RFE model\n",
    "rfe = RFE(model, 10)             \n",
    "# Transforming data using RFE\n",
    "X_rfe = rfe.fit_transform(X,y)  \n",
    "# Fitting the data to model\n",
    "model.fit(X_rfe,y)              \n",
    "temp = pd.Series(rfe.support_,index = cols)\n",
    "selected_features_rfe = temp[temp==True].index\n",
    "print(selected_features_rfe)"
   ]
  },
  {
   "cell_type": "markdown",
   "metadata": {
    "application/vnd.databricks.v1+cell": {
     "cellMetadata": {},
     "inputWidgets": {},
     "nuid": "d217ea57-4e25-455e-93a9-8fc0b9cd7d46",
     "showTitle": false,
     "title": ""
    }
   },
   "source": [
    "### Embedded Method:\n",
    "\n",
    "Regularization methods are the most commonly used embedded methods which penalize a feature given a coefficient threshold.\n",
    "\n",
    "If the feature is irrelevant, lasso penalizes it’s coefficient and make it 0. Hence the features with coefficient = 0 are removed and the rest are taken."
   ]
  },
  {
   "cell_type": "code",
   "execution_count": 0,
   "metadata": {
    "application/vnd.databricks.v1+cell": {
     "cellMetadata": {},
     "inputWidgets": {},
     "nuid": "afbed903-9a80-459e-9f89-77bafb1a8e58",
     "showTitle": false,
     "title": ""
    }
   },
   "outputs": [],
   "source": [
    "reg = LassoCV()\n",
    "reg.fit(X, y)\n",
    "print(\"Best alpha (penalizer) using built-in LassoCV: %f\" % reg.alpha_)\n",
    "print(\"Best score (R2) using built-in LassoCV: %f\" %reg.score(X,y))\n",
    "\n",
    "coef = pd.Series(reg.coef_, index = X.columns)\n",
    "print(\"Lasso picked \" + str(sum(coef != 0)) + \n",
    "      \" variables and eliminated the other \" +  str(sum(coef == 0)) + \" variables\")"
   ]
  },
  {
   "cell_type": "code",
   "execution_count": 0,
   "metadata": {
    "application/vnd.databricks.v1+cell": {
     "cellMetadata": {},
     "inputWidgets": {},
     "nuid": "fd444403-3b2b-4daf-a4c0-2efaab330ede",
     "showTitle": false,
     "title": ""
    }
   },
   "outputs": [],
   "source": [
    "imp_coef = coef.sort_values()\n",
    "import matplotlib\n",
    "matplotlib.rcParams['figure.figsize'] = (8.0, 10.0)\n",
    "imp_coef.plot(kind = \"barh\")\n",
    "plt.title(\"Feature importance using Lasso Model\")\n",
    "plt.xlabel('R2 score')\n",
    "plt.ylabel('Features');"
   ]
  },
  {
   "cell_type": "markdown",
   "metadata": {
    "application/vnd.databricks.v1+cell": {
     "cellMetadata": {},
     "inputWidgets": {},
     "nuid": "d7cc5466-4b6f-4a9a-bbf4-3c0a6f0c554b",
     "showTitle": false,
     "title": ""
    }
   },
   "source": [
    "### Conclusion:\n",
    "\n",
    "Following points will help you make the decision of which method to choose in what situation:\n",
    "1. Filter method is less accurate. It is great while doing EDA, it can also be used for checking multi co-linearity in data.\n",
    "2. Wrapper and Embedded methods give more accurate results but as they are computationally expensive, these method are suited when you have lesser features (~20)."
   ]
  },
  {
   "cell_type": "markdown",
   "metadata": {
    "application/vnd.databricks.v1+cell": {
     "cellMetadata": {},
     "inputWidgets": {},
     "nuid": "f4ecbd26-bf09-4aac-9c00-6958a66b519e",
     "showTitle": false,
     "title": ""
    }
   },
   "source": [
    "## PCA"
   ]
  },
  {
   "cell_type": "code",
   "execution_count": 0,
   "metadata": {
    "application/vnd.databricks.v1+cell": {
     "cellMetadata": {},
     "inputWidgets": {},
     "nuid": "a9156454-18a1-4cae-96b8-ef051bc2efdb",
     "showTitle": false,
     "title": ""
    }
   },
   "outputs": [],
   "source": [
    "from sklearn.decomposition import PCA\n",
    "\n",
    "ss = StandardScaler()\n",
    "# Scale X_train.\n",
    "X_train = ss.fit_transform(X_train)\n",
    "# Scale X_test.\n",
    "X_test = ss.transform(X_test)\n",
    "\n",
    "\n",
    "pca = PCA(n_components=10)\n",
    "# Instantiate linear regression model.\n",
    "lm = LinearRegression()\n",
    "\n",
    "# Transform Z_train and Z_test.\n",
    "Z_train = pca.transform(X_train)\n",
    "# Don't forget to transform the test data!\n",
    "Z_test = pca.transform(X_test)\n",
    "\n",
    "# Fit on Z_train.\n",
    "lm.fit(Z_train, y_train)\n",
    "\n",
    "# Score on training and testing sets.\n",
    "print(f'Training Score: {round(lm.score(Z_train, y_train),4)}')\n",
    "print(f'Testing Score: {round(lm.score(Z_test, y_test),4)}')"
   ]
  },
  {
   "cell_type": "code",
   "execution_count": 0,
   "metadata": {
    "application/vnd.databricks.v1+cell": {
     "cellMetadata": {},
     "inputWidgets": {},
     "nuid": "c792f3a1-be3d-492f-bd99-68048c507c4d",
     "showTitle": false,
     "title": ""
    }
   },
   "outputs": [],
   "source": [
    "# Pull the explained variance attribute.\n",
    "var_exp = pca.explained_variance_ratio_\n",
    "print(f'Explained variance (first 20 components): {np.round(var_exp[:20],3)}')\n",
    "\n",
    "print('')\n",
    "\n",
    "# Generate the cumulative explained variance.\n",
    "cum_var_exp = np.cumsum(var_exp)\n",
    "print(f'Cumulative explained variance (first 20 components): {np.round(cum_var_exp[:20],3)}')"
   ]
  }
 ],
 "metadata": {
  "application/vnd.databricks.v1+notebook": {
   "dashboards": [],
   "language": "python",
   "notebookMetadata": {
    "pythonIndentUnit": 4
   },
   "notebookName": "Feature selection",
   "widgets": {}
  },
  "kernelspec": {
   "display_name": "Python 3",
   "language": "python",
   "name": "python3"
  },
  "language_info": {
   "codemirror_mode": {
    "name": "ipython",
    "version": 3
   },
   "file_extension": ".py",
   "mimetype": "text/x-python",
   "name": "python",
   "nbconvert_exporter": "python",
   "pygments_lexer": "ipython3",
   "version": "3.7.7"
  }
 },
 "nbformat": 4,
 "nbformat_minor": 0
}
